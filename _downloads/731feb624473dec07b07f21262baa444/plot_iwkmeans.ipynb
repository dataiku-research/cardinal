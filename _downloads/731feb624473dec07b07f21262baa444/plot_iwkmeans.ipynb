{
  "cells": [
    {
      "cell_type": "code",
      "execution_count": null,
      "metadata": {
        "collapsed": false
      },
      "outputs": [],
      "source": [
        "%matplotlib inline"
      ]
    },
    {
      "cell_type": "markdown",
      "metadata": {},
      "source": [
        "\n# Noisy boundary 2\n\nCan a noisy boundary tamper with an active learning process? For this test,\nwe select a very simple classification problem. However, this problem is made\nmore difficult by the existence of a noisy boundary where samples are\nindistinguishable from each other. Let us see if this samplers fall for this\n\"honey pot\".\n"
      ]
    },
    {
      "cell_type": "code",
      "execution_count": null,
      "metadata": {
        "collapsed": false
      },
      "outputs": [],
      "source": [
        "from copy import deepcopy\n\nimport numpy as np\nfrom sklearn.datasets import make_blobs\nfrom sklearn.ensemble import RandomForestClassifier\nfrom sklearn.metrics import accuracy_score\nfrom matplotlib import pyplot as plt\n\nfrom cardinal.utils import ActiveLearningSplitter\nfrom cardinal.uncertainty import ConfidenceSampler\nfrom cardinal.random import RandomSampler\nfrom cardinal.clustering import KMeansSampler\nfrom cardinal.plotting import smooth_lines\n\n\nn_samples = 10000\nn_features = 100\nn_classes = 10\nn_blobs = 100\nn_noisy_blobs = 10\nseed = 2\nbatch_size = 20\n\nif n_noisy_blobs % 2 != 0:\n    raise ValueError(\"Noisy blob number must be even\")\n\nif n_blobs % n_classes != 0:\n    raise ValueError('Please specify a uniform amount of blobs per class')\n\nppb = n_samples // n_blobs\nspb = [ppb * 2] * (n_noisy_blobs // 2) + [ppb] * (n_blobs - n_noisy_blobs)\n\n\nX, y_ = make_blobs(spb, random_state=seed)\n\n# Now attribute labels to noisy blobs\nfor i in range(n_blobs - n_noisy_blobs, n_blobs - n_noisy_blobs // 2):\n    # Chose half of the points of the noisy blob to assign them a new label\n    idx = np.where(y_ == i)[0]\n    np.random.shuffle(idx)\n    y_[idx[:idx.shape[0] // 2]] = i + (n_noisy_blobs // 2)\n\nassert(np.unique(y_).shape[0] == n_blobs)\n\n# Now assign blobs to classes\nclasses = np.arange(n_classes).repeat(n_blobs // n_classes)\nnp.random.shuffle(classes)\ny = classes[y_]\n\n\n\n\nclf = RandomForestClassifier()\ninit_spl = ActiveLearningSplitter.train_test_split(X.shape[0], test_size=0.2, shuffle=True, stratify=y, random_state=seed)\n\ninit_random_spl = deepcopy(init_spl)\nnp.random.seed(seed)\ninit_idx = np.hstack([\n    np.random.choice(np.where(y[init_spl.train] == 0)[0], size=batch_size),\n    np.random.choice(np.where(y[init_spl.train] == 1)[0], size=batch_size),\n])\ninit_random_spl.initialize_with_indices(init_idx)"
      ]
    },
    {
      "cell_type": "markdown",
      "metadata": {},
      "source": [
        "This function runs the experiment. It is a class active learning setting.\n\n"
      ]
    },
    {
      "cell_type": "code",
      "execution_count": null,
      "metadata": {
        "collapsed": false
      },
      "outputs": [],
      "source": [
        "def evaluate(acc, cnt, name, sampler, init_spl, n_iter=20):\n    spl = deepcopy(init_spl)\n    g_acc = []\n    n_cnt = []\n    \n    for _ in range(n_iter):\n        clf.fit(X[spl.selected], y[spl.selected])\n        sampler.fit(X[spl.selected], y[spl.selected])\n        spl.add_batch(sampler.select_samples(X[spl.non_selected]))\n        g_acc.append(accuracy_score(y[spl.test], clf.predict(X[spl.test])))\n        n_cnt.append((y_[spl.test] >= n_blobs - n_noisy_blobs).mean())\n    \n    acc[name] = g_acc\n    cnt[name] = n_cnt"
      ]
    },
    {
      "cell_type": "markdown",
      "metadata": {},
      "source": [
        "We create a figure to track both the global accuracy with random and noisy\ninitialization and display the results for 3 very common samplers.\n\n"
      ]
    },
    {
      "cell_type": "code",
      "execution_count": null,
      "metadata": {
        "collapsed": false
      },
      "outputs": [],
      "source": [
        "acc = dict()\ncnt = dict()\n\nevaluate(acc, cnt, 'Confidence Sampler', ConfidenceSampler(clf, batch_size=batch_size, assume_fitted=True), init_random_spl)\nevaluate(acc, cnt, 'Random Sampler', RandomSampler(batch_size=batch_size, random_state=0), init_random_spl)\nevaluate(acc, cnt, 'KMeans Sampler', KMeansSampler(batch_size=batch_size), init_random_spl)\n\n\nplt.figure()\nplt.ylabel('Accuracy')\nplt.xlabel('Iteration')\nfor name in acc:\n    data = acc[name]\n    plt.plot(np.arange(len(data)), data, label=name)\n\ngr_ax = plt.gca()\ngr_ax.legend()\n#smooth_lines(axis=gr_ax, k=2)\n\nplt.figure()\nplt.ylabel('Ratio of noisy samples')\nplt.xlabel('Iteration')\nfor name in cnt:\n    data = cnt[name]\n    plt.plot(np.arange(len(data)), data, label=name)\n\ngr_ax = plt.gca()\ngr_ax.legend()\n#smooth_lines(axis=gr_ax, k=2)\n\nplt.show()"
      ]
    }
  ],
  "metadata": {
    "kernelspec": {
      "display_name": "Python 3",
      "language": "python",
      "name": "python3"
    },
    "language_info": {
      "codemirror_mode": {
        "name": "ipython",
        "version": 3
      },
      "file_extension": ".py",
      "mimetype": "text/x-python",
      "name": "python",
      "nbconvert_exporter": "python",
      "pygments_lexer": "ipython3",
      "version": "3.9.13"
    }
  },
  "nbformat": 4,
  "nbformat_minor": 0
}