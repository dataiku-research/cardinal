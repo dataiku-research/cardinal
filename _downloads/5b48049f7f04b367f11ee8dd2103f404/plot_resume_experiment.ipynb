{
  "cells": [
    {
      "cell_type": "code",
      "execution_count": null,
      "metadata": {
        "collapsed": false
      },
      "outputs": [],
      "source": [
        "%matplotlib inline"
      ]
    },
    {
      "cell_type": "markdown",
      "metadata": {},
      "source": [
        "\n# Running and resuming an experiment\n\nActive Learning experiments can be long and costly. For this reason,\nit is useful to be able to resume an experiment if an error happened.\nTo achieve that, cardinal allows to store intermediate variables,\nsuch as selected samples, in a cache called ResumeCache. Let us see\nhow to use it in this example.\n"
      ]
    },
    {
      "cell_type": "code",
      "execution_count": null,
      "metadata": {
        "collapsed": false
      },
      "outputs": [],
      "source": [
        "import os\nimport shutil\n\nimport numpy as np\nimport dataset\n\nfrom sklearn.datasets import load_iris\nfrom sklearn.svm import SVC\nfrom sklearn.model_selection import train_test_split\n\nfrom cardinal.uncertainty import MarginSampler\nfrom cardinal.cache import ResumeCache, ShelveStore\nfrom cardinal.utils import SampleSelector"
      ]
    },
    {
      "cell_type": "markdown",
      "metadata": {},
      "source": [
        "Since we will be looking at the cache, we need a utility function to display\na tree folder.\n\n"
      ]
    },
    {
      "cell_type": "code",
      "execution_count": null,
      "metadata": {
        "collapsed": false
      },
      "outputs": [],
      "source": [
        "def print_folder_tree(startpath):\n    for root, dirs, files in os.walk(startpath):\n        level = root.replace(startpath, '').count(os.sep)\n        indent = ' ' * 4 * (level)\n        print('{}{}/'.format(indent, os.path.basename(root)))\n        subindent = ' ' * 4 * (level + 1)\n        for f in files:\n            print('{}{}'.format(subindent, f))"
      ]
    },
    {
      "cell_type": "markdown",
      "metadata": {},
      "source": [
        "We load the data and define the parameters of this experiment:  \n\n* ``batch_size`` is the number of samples that will be annotated and added to\n  the training set at each iteration,\n* ``n_iter`` is the number of iterations in our simulation\n\n"
      ]
    },
    {
      "cell_type": "code",
      "execution_count": null,
      "metadata": {
        "collapsed": false
      },
      "outputs": [],
      "source": [
        "iris = load_iris()\nX = iris.data\ny = iris.target\n\nX_train, X_test, y_train, y_test = train_test_split(X, y, test_size=0.5, random_state=1)\nbatch_size = 5\nn_iter = 10\n\nmodel = SVC(probability=True)\n\nsamplers = [\n    ('margin', MarginSampler(model, batch_size))\n]\n\nCACHE_PATH = './cache'\nDATABASE_PATH = './cache.db'\n\nvalue_store = ShelveStore(DATABASE_PATH)"
      ]
    },
    {
      "cell_type": "markdown",
      "metadata": {},
      "source": [
        "We define our experiment in a dedicated function since we want to run it\nseveral times. We also create a dedicated exception that we will rise to\nsimulate an interruption in the experiment.\n\nNote the use of the GrowingIndex utils that facilitate the handing of\nindices in an active learning experiment.\n\n"
      ]
    },
    {
      "cell_type": "code",
      "execution_count": null,
      "metadata": {
        "collapsed": false
      },
      "outputs": [],
      "source": [
        "class ExampleError(Exception):\n    pass\n\n\ndef run(force_failure=False):\n\n    for sampler_name, sampler in samplers:\n\n        experiment_config = dict(sampler=sampler_name)\n\n        with ResumeCache(CACHE_PATH, value_store, keys=experiment_config) as cache:\n\n            # Create a selector with one sample from each class and persist it\n            init_selector = SampleSelector(X_train.shape[0])\n            init_selector.add_to_selected([np.where(y_train == i)[0][0] for i in np.unique(y)])\n            selector = cache.persisted_value('selector', init_selector)\n\n            for j, prev_selector in cache.iter(range(n_iter), selector.previous()):\n                print('Computing iteration {}'.format(j))\n\n                model.fit(X_train[prev_selector.selected], y_train[prev_selector.selected])\n                sampler.fit(X_train[prev_selector.selected], y_train[prev_selector.selected])\n                prev_selector.add_to_selected(sampler.select_samples(X_train[prev_selector.non_selected]))\n\n                selector.set(prev_selector)\n\n                cache.log_value('accuracy', model.score(X_test, y_test))\n\n                if force_failure and j == 5:\n                    raise ExampleError('Simulated Error')"
      ]
    },
    {
      "cell_type": "markdown",
      "metadata": {},
      "source": [
        "We run this function and force an error to happen. We then see how the\ncache stores these values in a human readable way.\n\nWe see that all selected indices have been kept up until the 4th iteration\n(since an error happened at iteration 5).\n\n"
      ]
    },
    {
      "cell_type": "code",
      "execution_count": null,
      "metadata": {
        "collapsed": false
      },
      "outputs": [],
      "source": [
        "try:\n    run(force_failure=True)\nexcept ExampleError as e:\n    print('ExempleError raised: ' + str(e))\nprint_folder_tree('./cache')"
      ]
    },
    {
      "cell_type": "markdown",
      "metadata": {},
      "source": [
        "We run the same function without error. In this case, we see that the 4\nfirst iterations are skipped. The code is not even executed. Afterward,\nthe cache contains the data for all iterations.\n\n"
      ]
    },
    {
      "cell_type": "code",
      "execution_count": null,
      "metadata": {
        "collapsed": false
      },
      "outputs": [],
      "source": [
        "run()\nprint_folder_tree('./cache')"
      ]
    },
    {
      "cell_type": "markdown",
      "metadata": {},
      "source": [
        "During the experiment, we have cached the accuracy value. Let us see how\nto get it and plot it.\n\n"
      ]
    },
    {
      "cell_type": "code",
      "execution_count": null,
      "metadata": {
        "collapsed": false
      },
      "outputs": [],
      "source": [
        "from matplotlib import pyplot as plt\n\n\naccuracy = value_store.get('accuracy')\n\nplt.plot(accuracy['iteration'], accuracy['value'])\nplt.xlabel('Iteration')\nplt.ylabel('Accuracy')\nplt.title('Evolution of accuracy during active learning experiment on Iris dataset')\nplt.show()"
      ]
    },
    {
      "cell_type": "markdown",
      "metadata": {},
      "source": [
        "We clean all the cache folder.\n\n"
      ]
    },
    {
      "cell_type": "code",
      "execution_count": null,
      "metadata": {
        "collapsed": false
      },
      "outputs": [],
      "source": [
        "shutil.rmtree(CACHE_PATH)\nif os.path.exists(DATABASE_PATH):\n    os.remove(DATABASE_PATH)"
      ]
    }
  ],
  "metadata": {
    "kernelspec": {
      "display_name": "Python 3",
      "language": "python",
      "name": "python3"
    },
    "language_info": {
      "codemirror_mode": {
        "name": "ipython",
        "version": 3
      },
      "file_extension": ".py",
      "mimetype": "text/x-python",
      "name": "python",
      "nbconvert_exporter": "python",
      "pygments_lexer": "ipython3",
      "version": "3.9.13"
    }
  },
  "nbformat": 4,
  "nbformat_minor": 0
}