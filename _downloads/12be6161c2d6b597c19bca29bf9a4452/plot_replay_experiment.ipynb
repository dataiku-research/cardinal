{
  "cells": [
    {
      "cell_type": "code",
      "execution_count": null,
      "metadata": {
        "collapsed": false
      },
      "outputs": [],
      "source": [
        "%matplotlib inline"
      ]
    },
    {
      "cell_type": "markdown",
      "metadata": {},
      "source": [
        "\n# Replay and experiment\n\nIn a previous example, we have shown how experiments can be resumed.\nCardinal also allows for experiments to be replayed, meaning that\none can save intermediate data to be able to run analysis on the\nexperiment without having to retrain all the models. Let us now\nsee how the ReplayCache allows it.\n"
      ]
    },
    {
      "cell_type": "code",
      "execution_count": null,
      "metadata": {
        "collapsed": false
      },
      "outputs": [],
      "source": [
        "import shutil\nimport os\nimport numpy as np\nimport dataset\n\nfrom sklearn.datasets import load_iris\nfrom sklearn.svm import SVC\nfrom sklearn.model_selection import train_test_split\n\nfrom cardinal.random import RandomSampler\nfrom cardinal.uncertainty import MarginSampler\nfrom cardinal.cache import ReplayCache, ShelveStore, SqliteStore\nfrom cardinal.utils import SampleSelector"
      ]
    },
    {
      "cell_type": "markdown",
      "metadata": {},
      "source": [
        "Since we will be looking at the cache, we need a utility function to display\na tree folder.\n\n"
      ]
    },
    {
      "cell_type": "code",
      "execution_count": null,
      "metadata": {
        "collapsed": false
      },
      "outputs": [],
      "source": [
        "def print_folder_tree(startpath):\n    for root, dirs, files in os.walk(startpath):\n        level = root.replace(startpath, '').count(os.sep)\n        indent = ' ' * 4 * (level)\n        print('{}{}/'.format(indent, os.path.basename(root)))\n        subindent = ' ' * 4 * (level + 1)\n        for f in files:\n            print('{}{}'.format(subindent, f))"
      ]
    },
    {
      "cell_type": "markdown",
      "metadata": {},
      "source": [
        "We load the data and define the parameters of this experiment:  \n\n* ``batch_size`` is the number of samples that will be annotated and added to\n  the training set at each iteration,\n* ``n_iter`` is the number of iterations in our simulation\n\n"
      ]
    },
    {
      "cell_type": "code",
      "execution_count": null,
      "metadata": {
        "collapsed": false
      },
      "outputs": [],
      "source": [
        "iris = load_iris()\nX = iris.data\ny = iris.target\n\nX_train, X_test, y_train, y_test = train_test_split(X, y, test_size=0.5, random_state=1)\nbatch_size = 5\nn_iter = 10\n\nmodel = SVC(probability=True)\n\nsampler = MarginSampler(model, batch_size)\nexperiment_config = dict(sampler='margin')\n\nCACHE_PATH = './cache'\nDATABASE_PATH = './cache.db'\n\nvalue_store = ShelveStore(DATABASE_PATH)"
      ]
    },
    {
      "cell_type": "markdown",
      "metadata": {},
      "source": [
        "We define our experiment in a dedicated function since we want to run it\nseveral times. We also create a dedicated exception that we will rise to\nsimulate an interruption in the experiment.\n\nNote the use of the SampleSelector utils that facilitate the handing of\nindices in an active learning experiment.\n\nIn the end, all values for all iterations are kept. The cache structure\nis human readable and can be shared for better reproducibility.\n\n"
      ]
    },
    {
      "cell_type": "code",
      "execution_count": null,
      "metadata": {
        "collapsed": false
      },
      "outputs": [],
      "source": [
        "with ReplayCache(CACHE_PATH, value_store, keys=experiment_config) as cache:\n\n    # Create a selector with one sample from each class and persist it\n    init_selector = SampleSelector(X_train.shape[0])\n    init_selector.add_to_selected([np.where(y_train == i)[0][0] for i in np.unique(y)])\n    selector = cache.persisted_value('selector', init_selector)\n            \n    predictions = cache.persisted_value('prediction', None)\n\n    for j, prev_selector, prev_predictions in cache.iter(range(n_iter), selector.previous(), predictions.previous()):\n        print('Computing iteration {}'.format(j))\n\n        model.fit(X_train[prev_selector.selected], y_train[prev_selector.selected])\n        sampler.fit(X_train[prev_selector.selected], y_train[prev_selector.selected])\n        prev_selector.add_to_selected(sampler.select_samples(X_train[prev_selector.non_selected]))\n        selector.set(prev_selector)\n        predictions.set(model.predict(X_test))\n\n    # All the values for the experiment are kept\n    print_folder_tree('./cache')\n\n    # This code could have been added to the script afterward to computer any metric.\n    def compute_contradictions(previous_prediction, current_prediction):\n        if previous_prediction is None:\n            return 0\n        return (previous_prediction != current_prediction).sum()\n\n    cache.compute_metric('contradictions', compute_contradictions, predictions.previous(), predictions.current())\n\n    from matplotlib import pyplot as plt\n\n\n    contradictions = value_store.get('contradictions')\n\n    plt.plot(contradictions['iteration'], contradictions['value'])\n    plt.xlabel('Iteration')\n    plt.ylabel('Contradictions')\n    plt.title('Evolution of Contradictions during active learning experiment on Iris dataset')\n    plt.show()\n\nvalue_store.close()"
      ]
    },
    {
      "cell_type": "markdown",
      "metadata": {},
      "source": [
        "We clean all the cache folder.\n\n"
      ]
    },
    {
      "cell_type": "code",
      "execution_count": null,
      "metadata": {
        "collapsed": false
      },
      "outputs": [],
      "source": [
        "shutil.rmtree(CACHE_PATH)\nif os.path.exists(DATABASE_PATH):\n    os.remove(DATABASE_PATH)"
      ]
    }
  ],
  "metadata": {
    "kernelspec": {
      "display_name": "Python 3",
      "language": "python",
      "name": "python3"
    },
    "language_info": {
      "codemirror_mode": {
        "name": "ipython",
        "version": 3
      },
      "file_extension": ".py",
      "mimetype": "text/x-python",
      "name": "python",
      "nbconvert_exporter": "python",
      "pygments_lexer": "ipython3",
      "version": "3.9.13"
    }
  },
  "nbformat": 4,
  "nbformat_minor": 0
}