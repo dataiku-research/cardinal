{
  "cells": [
    {
      "cell_type": "code",
      "execution_count": null,
      "metadata": {
        "collapsed": false
      },
      "outputs": [],
      "source": [
        "%matplotlib inline"
      ]
    },
    {
      "cell_type": "markdown",
      "metadata": {},
      "source": [
        "\n# Noisy boundary\n\nCan a noisy boundary tamper with an active learning process? For this test,\nwe select a very simple classification problem. However, this problem is made\nmore difficult by the existence of a noisy boundary where samples are\nindistinguishable from each other. Let us see if this samplers fall for this\n\"honey pot\".\n"
      ]
    },
    {
      "cell_type": "code",
      "execution_count": null,
      "metadata": {
        "collapsed": false
      },
      "outputs": [],
      "source": [
        "from copy import deepcopy\n\nimport numpy as np\nfrom sklearn.datasets import make_blobs\nfrom sklearn.linear_model import LogisticRegression\nfrom sklearn.metrics import accuracy_score\nfrom matplotlib import pyplot as plt\n\nfrom cardinal.utils import ActiveLearningSplitter\nfrom cardinal.uncertainty import ConfidenceSampler\nfrom cardinal.random import RandomSampler\nfrom cardinal.clustering import KMeansSampler\nfrom cardinal.plotting import smooth_lines"
      ]
    },
    {
      "cell_type": "markdown",
      "metadata": {},
      "source": [
        "We simulate two classes. Each class is composed of two blobs. One is clearly\ndistinct for each class, and one is located in a very noisy areas where\nclasses mix with each other.\n\n"
      ]
    },
    {
      "cell_type": "code",
      "execution_count": null,
      "metadata": {
        "collapsed": false
      },
      "outputs": [],
      "source": [
        "seed = 2\nX_noisy, y_noisy = make_blobs([250, 250], centers=[(0, 0), (0, 0)], cluster_std=[0.3, 0.3], random_state=seed)\nX_large, y_large = make_blobs([250, 250], centers=[(-4, 0), (4, 0)], cluster_std=[2, 2], random_state=seed)\nX_large[:, 1] *= 5\nbatch_size = 10\nclf = LogisticRegression()\nX = np.vstack([X_noisy, X_large])\ny = np.hstack([y_noisy, y_large])"
      ]
    },
    {
      "cell_type": "markdown",
      "metadata": {},
      "source": [
        "We now create the active learning experiment. We use cardinal's splitter\nto handles indices. For the initialisation, We sample data in all blobs.\n\n"
      ]
    },
    {
      "cell_type": "code",
      "execution_count": null,
      "metadata": {
        "collapsed": false
      },
      "outputs": [],
      "source": [
        "init_spl = ActiveLearningSplitter.train_test_split(X.shape[0], test_size=0.2, shuffle=True, stratify=y, random_state=seed)\n\ninit_random_spl = deepcopy(init_spl)\nnp.random.seed(seed)\ninit_idx = np.hstack([\n    np.random.choice(np.where(y[init_spl.train] == 0)[0], size=batch_size),\n    np.random.choice(np.where(y[init_spl.train] == 1)[0], size=batch_size),\n])\ninit_random_spl.initialize_with_indices(init_idx)\n\ninit_noisy_spl = deepcopy(init_spl)\ninit_idx = np.hstack([\n    np.where(y[init_spl.train] == 0)[0][:batch_size],\n    np.where(y[init_spl.train] == 1)[0][:batch_size],\n])\ninit_noisy_spl.initialize_with_indices(init_idx)\n\nplt.scatter(X[:, 0], X[:, 1], c=['C{}'.format(i) for i in y], alpha=.3)\nplt.scatter(X[init_random_spl.selected, 0], X[init_random_spl.selected, 1], facecolors='none', edgecolors='r', linewidth=2, label='Random init batch')\nplt.scatter(X[init_noisy_spl.selected, 0], X[init_noisy_spl.selected, 1], facecolors='none', edgecolors='b', linewidth=2, label='Noisy init batch')\n\nplt.legend()\nplt.axis('off')\n\nplt.show()"
      ]
    },
    {
      "cell_type": "markdown",
      "metadata": {},
      "source": [
        "This function runs the experiment. It is a class active learning setting.\n\n"
      ]
    },
    {
      "cell_type": "code",
      "execution_count": null,
      "metadata": {
        "collapsed": false
      },
      "outputs": [],
      "source": [
        "def evaluate(name, sampler, init_spl, ax):\n    spl = deepcopy(init_spl)\n    g_acc = []\n\n    for _ in range(10):\n        clf.fit(X[spl.selected], y[spl.selected])\n        sampler.fit(X[spl.selected], y[spl.selected])\n        spl.add_batch(sampler.select_samples(X[spl.non_selected]))\n        g_acc.append(accuracy_score(y[spl.test], clf.predict(X[spl.test])))\n    \n    ax.plot(np.arange(10), g_acc, label=name)"
      ]
    },
    {
      "cell_type": "markdown",
      "metadata": {},
      "source": [
        "We create a figure to track both the global accuracy with random and noisy\ninitialization and display the results for 3 very common samplers.\n\n"
      ]
    },
    {
      "cell_type": "code",
      "execution_count": null,
      "metadata": {
        "collapsed": false
      },
      "outputs": [],
      "source": [
        "plt.figure()\ngr_ax = plt.gca()\nplt.ylabel('Global accuracy with random init')\nplt.xlabel('Iteration')\n\nplt.figure()\ngn_ax = plt.gca()\nplt.ylabel('Global accuracy with noisy init')\nplt.xlabel('Iteration')\n\nevaluate('Confidence Sampler', ConfidenceSampler(clf, batch_size=batch_size, assume_fitted=True), init_random_spl, gr_ax)\nevaluate('Random Sampler', RandomSampler(batch_size=batch_size, random_state=0), init_random_spl, gr_ax)\nevaluate('KMeans Sampler', KMeansSampler(batch_size=batch_size), init_random_spl, gr_ax)\n\ngr_ax.legend()\nsmooth_lines(axis=gr_ax, k=2)\n\nevaluate('Confidence Sampler', ConfidenceSampler(clf, batch_size=batch_size, assume_fitted=True), init_noisy_spl, gn_ax)\nevaluate('Random Sampler', RandomSampler(batch_size=batch_size, random_state=0), init_noisy_spl, gn_ax)\nevaluate('KMeans Sampler', KMeansSampler(batch_size=batch_size), init_noisy_spl, gn_ax)\n\ngn_ax.legend()\nsmooth_lines(axis=gn_ax, k=2)\n\n\nplt.show()"
      ]
    }
  ],
  "metadata": {
    "kernelspec": {
      "display_name": "Python 3",
      "language": "python",
      "name": "python3"
    },
    "language_info": {
      "codemirror_mode": {
        "name": "ipython",
        "version": 3
      },
      "file_extension": ".py",
      "mimetype": "text/x-python",
      "name": "python",
      "nbconvert_exporter": "python",
      "pygments_lexer": "ipython3",
      "version": "3.9.13"
    }
  },
  "nbformat": 4,
  "nbformat_minor": 0
}